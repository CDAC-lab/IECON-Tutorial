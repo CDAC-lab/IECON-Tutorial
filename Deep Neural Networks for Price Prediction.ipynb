{
  "nbformat": 4,
  "nbformat_minor": 0,
  "metadata": {
    "colab": {
      "name": "Deep Neural Networks for Classification Problems - Price Prediction",
      "provenance": [],
      "collapsed_sections": [],
      "toc_visible": true,
      "include_colab_link": true
    },
    "kernelspec": {
      "name": "python3",
      "display_name": "Python 3"
    },
    "accelerator": "GPU"
  },
  "cells": [
    {
      "cell_type": "markdown",
      "metadata": {
        "id": "view-in-github",
        "colab_type": "text"
      },
      "source": [
        "<a href=\"https://colab.research.google.com/github/CDAC-lab/AJCAI-Tutorial/blob/main/Deep%20Neural%20Networks%20for%20Price%20Prediction.ipynb\" target=\"_parent\"><img src=\"https://colab.research.google.com/assets/colab-badge.svg\" alt=\"Open In Colab\"/></a>"
      ]
    },
    {
      "cell_type": "markdown",
      "metadata": {
        "id": "qtGTpd6g0r_r"
      },
      "source": [
        "# Deep Neural Networks for Standard Classification Problems - Price Prediction"
      ]
    },
    {
      "cell_type": "markdown",
      "metadata": {
        "id": "WJr9iTt600FD"
      },
      "source": [
        "With 79 explanatory variables describing (almost) every aspect of residential homes in Ames, Iowa, this dataset challenges you to predict the final price of each home. The Kaggle challenge can be found [Here](https://www.kaggle.com/c/house-prices-advanced-regression-techniques/data)\n"
      ]
    },
    {
      "cell_type": "markdown",
      "metadata": {
        "id": "El2XmruGPb1A"
      },
      "source": [
        "Load required libraries for modeling and data processing"
      ]
    },
    {
      "cell_type": "code",
      "metadata": {
        "id": "H9QlV0BC_9PY"
      },
      "source": [
        "import seaborn as sb\n",
        "import matplotlib.pyplot as plt\n",
        "import pandas as pd\n",
        "import numpy as np\n",
        "import warnings \n",
        "warnings.filterwarnings('ignore')\n",
        "warnings.filterwarnings('ignore', category=DeprecationWarning)"
      ],
      "execution_count": 1,
      "outputs": []
    },
    {
      "cell_type": "markdown",
      "metadata": {
        "id": "0Az32Yl455cZ"
      },
      "source": [
        "## Load the dataset"
      ]
    },
    {
      "cell_type": "code",
      "metadata": {
        "id": "928acFRDBVev"
      },
      "source": [
        "!pip install -U -q PyDrive\n",
        "from pydrive.auth import GoogleAuth\n",
        "from pydrive.drive import GoogleDrive\n",
        "from google.colab import auth\n",
        "from oauth2client.client import GoogleCredentials"
      ],
      "execution_count": 2,
      "outputs": []
    },
    {
      "cell_type": "markdown",
      "metadata": {
        "id": "PVGQ7TRGA4Sm"
      },
      "source": [
        "Authenticate and create the PyDrive client."
      ]
    },
    {
      "cell_type": "code",
      "metadata": {
        "id": "L6Kbe6Zu_kD8"
      },
      "source": [
        "auth.authenticate_user()\n",
        "gauth = GoogleAuth()\n",
        "gauth.credentials = GoogleCredentials.get_application_default()\n",
        "drive = GoogleDrive(gauth)"
      ],
      "execution_count": 3,
      "outputs": []
    },
    {
      "cell_type": "markdown",
      "metadata": {
        "id": "-ArRh-xt_3FF"
      },
      "source": [
        "When prompted, click on the link to get authentication to allow Google to access your Drive. You should see a screen with “Google Cloud SDK wants to access your Google Account” at the top. After you allow permission, copy the given verification code and paste it in the box in Colab."
      ]
    },
    {
      "cell_type": "code",
      "metadata": {
        "id": "i-MgKXCw_kGd"
      },
      "source": [
        "dataset_file_id = '1RBxydSbuwpMCVaJ2t6cHyNFYMGYvaD8P'"
      ],
      "execution_count": 4,
      "outputs": []
    },
    {
      "cell_type": "code",
      "metadata": {
        "id": "ySvIiqpN_peM"
      },
      "source": [
        "downloaded = drive.CreateFile({'id':dataset_file_id}) \n",
        "downloaded.GetContentFile('kaggle_housing_cleaned.csv')"
      ],
      "execution_count": 5,
      "outputs": []
    },
    {
      "cell_type": "markdown",
      "metadata": {
        "id": "AimvnJbPP1Lq"
      },
      "source": [
        "Load the dataset file to a dataframe using Pandas library."
      ]
    },
    {
      "cell_type": "code",
      "metadata": {
        "id": "DyyMlpxz9H7v"
      },
      "source": [
        "df = pd.read_csv('kaggle_housing_cleaned.csv')"
      ],
      "execution_count": 6,
      "outputs": []
    },
    {
      "cell_type": "code",
      "metadata": {
        "id": "w1nG8LUP9oht",
        "colab": {
          "base_uri": "https://localhost:8080/",
          "height": 270
        },
        "outputId": "ef855984-783e-4faf-c6f8-810ec6e4d589"
      },
      "source": [
        "df.head()"
      ],
      "execution_count": 7,
      "outputs": [
        {
          "output_type": "execute_result",
          "data": {
            "text/html": [
              "\n",
              "  <div id=\"df-4fed68da-817f-48a0-91a5-2431f8c74843\">\n",
              "    <div class=\"colab-df-container\">\n",
              "      <div>\n",
              "<style scoped>\n",
              "    .dataframe tbody tr th:only-of-type {\n",
              "        vertical-align: middle;\n",
              "    }\n",
              "\n",
              "    .dataframe tbody tr th {\n",
              "        vertical-align: top;\n",
              "    }\n",
              "\n",
              "    .dataframe thead th {\n",
              "        text-align: right;\n",
              "    }\n",
              "</style>\n",
              "<table border=\"1\" class=\"dataframe\">\n",
              "  <thead>\n",
              "    <tr style=\"text-align: right;\">\n",
              "      <th></th>\n",
              "      <th>MSSubClass</th>\n",
              "      <th>LotFrontage</th>\n",
              "      <th>LotArea</th>\n",
              "      <th>OverallQual</th>\n",
              "      <th>OverallCond</th>\n",
              "      <th>YearBuilt</th>\n",
              "      <th>YearRemodAdd</th>\n",
              "      <th>MasVnrArea</th>\n",
              "      <th>BsmtFinSF1</th>\n",
              "      <th>BsmtFinSF2</th>\n",
              "      <th>BsmtUnfSF</th>\n",
              "      <th>TotalBsmtSF</th>\n",
              "      <th>1stFlrSF</th>\n",
              "      <th>2ndFlrSF</th>\n",
              "      <th>LowQualFinSF</th>\n",
              "      <th>GrLivArea</th>\n",
              "      <th>BsmtFullBath</th>\n",
              "      <th>BsmtHalfBath</th>\n",
              "      <th>FullBath</th>\n",
              "      <th>HalfBath</th>\n",
              "      <th>BedroomAbvGr</th>\n",
              "      <th>KitchenAbvGr</th>\n",
              "      <th>TotRmsAbvGrd</th>\n",
              "      <th>Fireplaces</th>\n",
              "      <th>GarageYrBlt</th>\n",
              "      <th>GarageCars</th>\n",
              "      <th>GarageArea</th>\n",
              "      <th>WoodDeckSF</th>\n",
              "      <th>OpenPorchSF</th>\n",
              "      <th>EnclosedPorch</th>\n",
              "      <th>3SsnPorch</th>\n",
              "      <th>ScreenPorch</th>\n",
              "      <th>PoolArea</th>\n",
              "      <th>MiscVal</th>\n",
              "      <th>MoSold</th>\n",
              "      <th>YrSold</th>\n",
              "      <th>SalePrice</th>\n",
              "      <th>Id</th>\n",
              "    </tr>\n",
              "  </thead>\n",
              "  <tbody>\n",
              "    <tr>\n",
              "      <th>0</th>\n",
              "      <td>60</td>\n",
              "      <td>65.0</td>\n",
              "      <td>8450</td>\n",
              "      <td>7</td>\n",
              "      <td>5</td>\n",
              "      <td>2003</td>\n",
              "      <td>2003</td>\n",
              "      <td>196.0</td>\n",
              "      <td>706</td>\n",
              "      <td>0</td>\n",
              "      <td>150</td>\n",
              "      <td>856</td>\n",
              "      <td>856</td>\n",
              "      <td>854</td>\n",
              "      <td>0</td>\n",
              "      <td>1710</td>\n",
              "      <td>1</td>\n",
              "      <td>0</td>\n",
              "      <td>2</td>\n",
              "      <td>1</td>\n",
              "      <td>3</td>\n",
              "      <td>1</td>\n",
              "      <td>8</td>\n",
              "      <td>0</td>\n",
              "      <td>2003.0</td>\n",
              "      <td>2</td>\n",
              "      <td>548</td>\n",
              "      <td>0</td>\n",
              "      <td>61</td>\n",
              "      <td>0</td>\n",
              "      <td>0</td>\n",
              "      <td>0</td>\n",
              "      <td>0</td>\n",
              "      <td>0</td>\n",
              "      <td>2</td>\n",
              "      <td>2008</td>\n",
              "      <td>208500</td>\n",
              "      <td>1</td>\n",
              "    </tr>\n",
              "    <tr>\n",
              "      <th>1</th>\n",
              "      <td>20</td>\n",
              "      <td>80.0</td>\n",
              "      <td>9600</td>\n",
              "      <td>6</td>\n",
              "      <td>8</td>\n",
              "      <td>1976</td>\n",
              "      <td>1976</td>\n",
              "      <td>0.0</td>\n",
              "      <td>978</td>\n",
              "      <td>0</td>\n",
              "      <td>284</td>\n",
              "      <td>1262</td>\n",
              "      <td>1262</td>\n",
              "      <td>0</td>\n",
              "      <td>0</td>\n",
              "      <td>1262</td>\n",
              "      <td>0</td>\n",
              "      <td>1</td>\n",
              "      <td>2</td>\n",
              "      <td>0</td>\n",
              "      <td>3</td>\n",
              "      <td>1</td>\n",
              "      <td>6</td>\n",
              "      <td>1</td>\n",
              "      <td>1976.0</td>\n",
              "      <td>2</td>\n",
              "      <td>460</td>\n",
              "      <td>298</td>\n",
              "      <td>0</td>\n",
              "      <td>0</td>\n",
              "      <td>0</td>\n",
              "      <td>0</td>\n",
              "      <td>0</td>\n",
              "      <td>0</td>\n",
              "      <td>5</td>\n",
              "      <td>2007</td>\n",
              "      <td>181500</td>\n",
              "      <td>2</td>\n",
              "    </tr>\n",
              "    <tr>\n",
              "      <th>2</th>\n",
              "      <td>60</td>\n",
              "      <td>68.0</td>\n",
              "      <td>11250</td>\n",
              "      <td>7</td>\n",
              "      <td>5</td>\n",
              "      <td>2001</td>\n",
              "      <td>2002</td>\n",
              "      <td>162.0</td>\n",
              "      <td>486</td>\n",
              "      <td>0</td>\n",
              "      <td>434</td>\n",
              "      <td>920</td>\n",
              "      <td>920</td>\n",
              "      <td>866</td>\n",
              "      <td>0</td>\n",
              "      <td>1786</td>\n",
              "      <td>1</td>\n",
              "      <td>0</td>\n",
              "      <td>2</td>\n",
              "      <td>1</td>\n",
              "      <td>3</td>\n",
              "      <td>1</td>\n",
              "      <td>6</td>\n",
              "      <td>1</td>\n",
              "      <td>2001.0</td>\n",
              "      <td>2</td>\n",
              "      <td>608</td>\n",
              "      <td>0</td>\n",
              "      <td>42</td>\n",
              "      <td>0</td>\n",
              "      <td>0</td>\n",
              "      <td>0</td>\n",
              "      <td>0</td>\n",
              "      <td>0</td>\n",
              "      <td>9</td>\n",
              "      <td>2008</td>\n",
              "      <td>223500</td>\n",
              "      <td>3</td>\n",
              "    </tr>\n",
              "    <tr>\n",
              "      <th>3</th>\n",
              "      <td>70</td>\n",
              "      <td>60.0</td>\n",
              "      <td>9550</td>\n",
              "      <td>7</td>\n",
              "      <td>5</td>\n",
              "      <td>1915</td>\n",
              "      <td>1970</td>\n",
              "      <td>0.0</td>\n",
              "      <td>216</td>\n",
              "      <td>0</td>\n",
              "      <td>540</td>\n",
              "      <td>756</td>\n",
              "      <td>961</td>\n",
              "      <td>756</td>\n",
              "      <td>0</td>\n",
              "      <td>1717</td>\n",
              "      <td>1</td>\n",
              "      <td>0</td>\n",
              "      <td>1</td>\n",
              "      <td>0</td>\n",
              "      <td>3</td>\n",
              "      <td>1</td>\n",
              "      <td>7</td>\n",
              "      <td>1</td>\n",
              "      <td>1998.0</td>\n",
              "      <td>3</td>\n",
              "      <td>642</td>\n",
              "      <td>0</td>\n",
              "      <td>35</td>\n",
              "      <td>272</td>\n",
              "      <td>0</td>\n",
              "      <td>0</td>\n",
              "      <td>0</td>\n",
              "      <td>0</td>\n",
              "      <td>2</td>\n",
              "      <td>2006</td>\n",
              "      <td>140000</td>\n",
              "      <td>4</td>\n",
              "    </tr>\n",
              "    <tr>\n",
              "      <th>4</th>\n",
              "      <td>60</td>\n",
              "      <td>84.0</td>\n",
              "      <td>14260</td>\n",
              "      <td>8</td>\n",
              "      <td>5</td>\n",
              "      <td>2000</td>\n",
              "      <td>2000</td>\n",
              "      <td>350.0</td>\n",
              "      <td>655</td>\n",
              "      <td>0</td>\n",
              "      <td>490</td>\n",
              "      <td>1145</td>\n",
              "      <td>1145</td>\n",
              "      <td>1053</td>\n",
              "      <td>0</td>\n",
              "      <td>2198</td>\n",
              "      <td>1</td>\n",
              "      <td>0</td>\n",
              "      <td>2</td>\n",
              "      <td>1</td>\n",
              "      <td>4</td>\n",
              "      <td>1</td>\n",
              "      <td>9</td>\n",
              "      <td>1</td>\n",
              "      <td>2000.0</td>\n",
              "      <td>3</td>\n",
              "      <td>836</td>\n",
              "      <td>192</td>\n",
              "      <td>84</td>\n",
              "      <td>0</td>\n",
              "      <td>0</td>\n",
              "      <td>0</td>\n",
              "      <td>0</td>\n",
              "      <td>0</td>\n",
              "      <td>12</td>\n",
              "      <td>2008</td>\n",
              "      <td>250000</td>\n",
              "      <td>5</td>\n",
              "    </tr>\n",
              "  </tbody>\n",
              "</table>\n",
              "</div>\n",
              "      <button class=\"colab-df-convert\" onclick=\"convertToInteractive('df-4fed68da-817f-48a0-91a5-2431f8c74843')\"\n",
              "              title=\"Convert this dataframe to an interactive table.\"\n",
              "              style=\"display:none;\">\n",
              "        \n",
              "  <svg xmlns=\"http://www.w3.org/2000/svg\" height=\"24px\"viewBox=\"0 0 24 24\"\n",
              "       width=\"24px\">\n",
              "    <path d=\"M0 0h24v24H0V0z\" fill=\"none\"/>\n",
              "    <path d=\"M18.56 5.44l.94 2.06.94-2.06 2.06-.94-2.06-.94-.94-2.06-.94 2.06-2.06.94zm-11 1L8.5 8.5l.94-2.06 2.06-.94-2.06-.94L8.5 2.5l-.94 2.06-2.06.94zm10 10l.94 2.06.94-2.06 2.06-.94-2.06-.94-.94-2.06-.94 2.06-2.06.94z\"/><path d=\"M17.41 7.96l-1.37-1.37c-.4-.4-.92-.59-1.43-.59-.52 0-1.04.2-1.43.59L10.3 9.45l-7.72 7.72c-.78.78-.78 2.05 0 2.83L4 21.41c.39.39.9.59 1.41.59.51 0 1.02-.2 1.41-.59l7.78-7.78 2.81-2.81c.8-.78.8-2.07 0-2.86zM5.41 20L4 18.59l7.72-7.72 1.47 1.35L5.41 20z\"/>\n",
              "  </svg>\n",
              "      </button>\n",
              "      \n",
              "  <style>\n",
              "    .colab-df-container {\n",
              "      display:flex;\n",
              "      flex-wrap:wrap;\n",
              "      gap: 12px;\n",
              "    }\n",
              "\n",
              "    .colab-df-convert {\n",
              "      background-color: #E8F0FE;\n",
              "      border: none;\n",
              "      border-radius: 50%;\n",
              "      cursor: pointer;\n",
              "      display: none;\n",
              "      fill: #1967D2;\n",
              "      height: 32px;\n",
              "      padding: 0 0 0 0;\n",
              "      width: 32px;\n",
              "    }\n",
              "\n",
              "    .colab-df-convert:hover {\n",
              "      background-color: #E2EBFA;\n",
              "      box-shadow: 0px 1px 2px rgba(60, 64, 67, 0.3), 0px 1px 3px 1px rgba(60, 64, 67, 0.15);\n",
              "      fill: #174EA6;\n",
              "    }\n",
              "\n",
              "    [theme=dark] .colab-df-convert {\n",
              "      background-color: #3B4455;\n",
              "      fill: #D2E3FC;\n",
              "    }\n",
              "\n",
              "    [theme=dark] .colab-df-convert:hover {\n",
              "      background-color: #434B5C;\n",
              "      box-shadow: 0px 1px 3px 1px rgba(0, 0, 0, 0.15);\n",
              "      filter: drop-shadow(0px 1px 2px rgba(0, 0, 0, 0.3));\n",
              "      fill: #FFFFFF;\n",
              "    }\n",
              "  </style>\n",
              "\n",
              "      <script>\n",
              "        const buttonEl =\n",
              "          document.querySelector('#df-4fed68da-817f-48a0-91a5-2431f8c74843 button.colab-df-convert');\n",
              "        buttonEl.style.display =\n",
              "          google.colab.kernel.accessAllowed ? 'block' : 'none';\n",
              "\n",
              "        async function convertToInteractive(key) {\n",
              "          const element = document.querySelector('#df-4fed68da-817f-48a0-91a5-2431f8c74843');\n",
              "          const dataTable =\n",
              "            await google.colab.kernel.invokeFunction('convertToInteractive',\n",
              "                                                     [key], {});\n",
              "          if (!dataTable) return;\n",
              "\n",
              "          const docLinkHtml = 'Like what you see? Visit the ' +\n",
              "            '<a target=\"_blank\" href=https://colab.research.google.com/notebooks/data_table.ipynb>data table notebook</a>'\n",
              "            + ' to learn more about interactive tables.';\n",
              "          element.innerHTML = '';\n",
              "          dataTable['output_type'] = 'display_data';\n",
              "          await google.colab.output.renderOutput(dataTable, element);\n",
              "          const docLink = document.createElement('div');\n",
              "          docLink.innerHTML = docLinkHtml;\n",
              "          element.appendChild(docLink);\n",
              "        }\n",
              "      </script>\n",
              "    </div>\n",
              "  </div>\n",
              "  "
            ],
            "text/plain": [
              "   MSSubClass  LotFrontage  LotArea  OverallQual  ...  MoSold  YrSold  SalePrice  Id\n",
              "0          60         65.0     8450            7  ...       2    2008     208500   1\n",
              "1          20         80.0     9600            6  ...       5    2007     181500   2\n",
              "2          60         68.0    11250            7  ...       9    2008     223500   3\n",
              "3          70         60.0     9550            7  ...       2    2006     140000   4\n",
              "4          60         84.0    14260            8  ...      12    2008     250000   5\n",
              "\n",
              "[5 rows x 38 columns]"
            ]
          },
          "metadata": {},
          "execution_count": 7
        }
      ]
    },
    {
      "cell_type": "markdown",
      "metadata": {
        "id": "vqcXsifZQCy3"
      },
      "source": [
        "Data description can be found from [this link](https://www.kaggle.com/c/house-prices-advanced-regression-techniques/data)."
      ]
    },
    {
      "cell_type": "markdown",
      "metadata": {
        "id": "sPy3xiAjQe8F"
      },
      "source": [
        "We will use SalePrice variable as the predictor and store the predictor array using variable *Y*."
      ]
    },
    {
      "cell_type": "code",
      "metadata": {
        "id": "lXsJPvZW-V9r"
      },
      "source": [
        "Y = df[['SalePrice']]"
      ],
      "execution_count": 8,
      "outputs": []
    },
    {
      "cell_type": "markdown",
      "metadata": {
        "id": "6jEfGrBXuzPB"
      },
      "source": [
        "## Exploratory Analytics and pre-processing"
      ]
    },
    {
      "cell_type": "markdown",
      "metadata": {
        "id": "BKs3exqVuzPA"
      },
      "source": [
        "First we will remove ID column and target column from the training dataset."
      ]
    },
    {
      "cell_type": "code",
      "metadata": {
        "id": "CwFn5zv5uzO9"
      },
      "source": [
        "df.drop(['Id', 'SalePrice'], inplace=True, axis=1)"
      ],
      "execution_count": 9,
      "outputs": []
    },
    {
      "cell_type": "code",
      "metadata": {
        "id": "Yc9Si6hmuzO6",
        "colab": {
          "base_uri": "https://localhost:8080/"
        },
        "outputId": "6975da4f-eb3a-4f60-f241-2beca1699050"
      },
      "source": [
        "print('Dataset size: Rows - {}, Columns - {}'.format(df.shape[0], df.shape[1]))"
      ],
      "execution_count": 10,
      "outputs": [
        {
          "output_type": "stream",
          "name": "stdout",
          "text": [
            "Dataset size: Rows - 1460, Columns - 36\n"
          ]
        }
      ]
    },
    {
      "cell_type": "markdown",
      "metadata": {
        "id": "hC4Fl_-X_Ntz"
      },
      "source": [
        "Note that for the experiment, we will only use the continuous variables."
      ]
    },
    {
      "cell_type": "code",
      "metadata": {
        "id": "SPUxApY8uzO3",
        "colab": {
          "base_uri": "https://localhost:8080/"
        },
        "outputId": "ae8f2086-6d6e-4bef-e5c0-f355ecc06b30"
      },
      "source": [
        "df.info()"
      ],
      "execution_count": 11,
      "outputs": [
        {
          "output_type": "stream",
          "name": "stdout",
          "text": [
            "<class 'pandas.core.frame.DataFrame'>\n",
            "RangeIndex: 1460 entries, 0 to 1459\n",
            "Data columns (total 36 columns):\n",
            " #   Column         Non-Null Count  Dtype  \n",
            "---  ------         --------------  -----  \n",
            " 0   MSSubClass     1460 non-null   int64  \n",
            " 1   LotFrontage    1460 non-null   float64\n",
            " 2   LotArea        1460 non-null   int64  \n",
            " 3   OverallQual    1460 non-null   int64  \n",
            " 4   OverallCond    1460 non-null   int64  \n",
            " 5   YearBuilt      1460 non-null   int64  \n",
            " 6   YearRemodAdd   1460 non-null   int64  \n",
            " 7   MasVnrArea     1460 non-null   float64\n",
            " 8   BsmtFinSF1     1460 non-null   int64  \n",
            " 9   BsmtFinSF2     1460 non-null   int64  \n",
            " 10  BsmtUnfSF      1460 non-null   int64  \n",
            " 11  TotalBsmtSF    1460 non-null   int64  \n",
            " 12  1stFlrSF       1460 non-null   int64  \n",
            " 13  2ndFlrSF       1460 non-null   int64  \n",
            " 14  LowQualFinSF   1460 non-null   int64  \n",
            " 15  GrLivArea      1460 non-null   int64  \n",
            " 16  BsmtFullBath   1460 non-null   int64  \n",
            " 17  BsmtHalfBath   1460 non-null   int64  \n",
            " 18  FullBath       1460 non-null   int64  \n",
            " 19  HalfBath       1460 non-null   int64  \n",
            " 20  BedroomAbvGr   1460 non-null   int64  \n",
            " 21  KitchenAbvGr   1460 non-null   int64  \n",
            " 22  TotRmsAbvGrd   1460 non-null   int64  \n",
            " 23  Fireplaces     1460 non-null   int64  \n",
            " 24  GarageYrBlt    1460 non-null   float64\n",
            " 25  GarageCars     1460 non-null   int64  \n",
            " 26  GarageArea     1460 non-null   int64  \n",
            " 27  WoodDeckSF     1460 non-null   int64  \n",
            " 28  OpenPorchSF    1460 non-null   int64  \n",
            " 29  EnclosedPorch  1460 non-null   int64  \n",
            " 30  3SsnPorch      1460 non-null   int64  \n",
            " 31  ScreenPorch    1460 non-null   int64  \n",
            " 32  PoolArea       1460 non-null   int64  \n",
            " 33  MiscVal        1460 non-null   int64  \n",
            " 34  MoSold         1460 non-null   int64  \n",
            " 35  YrSold         1460 non-null   int64  \n",
            "dtypes: float64(3), int64(33)\n",
            "memory usage: 410.8 KB\n"
          ]
        }
      ]
    },
    {
      "cell_type": "markdown",
      "metadata": {
        "id": "MLZTsSkSuzOa"
      },
      "source": [
        "For the experiment, we will only use the continuous variables."
      ]
    },
    {
      "cell_type": "code",
      "metadata": {
        "id": "X4-SM0l6veZq"
      },
      "source": [
        "df_numerical = df.copy()"
      ],
      "execution_count": 12,
      "outputs": []
    },
    {
      "cell_type": "markdown",
      "metadata": {
        "id": "hbL69PFGuzOZ"
      },
      "source": [
        "### Standardization\n",
        "\n",
        "First we will have a look on the data distribution using a box plot."
      ]
    },
    {
      "cell_type": "code",
      "metadata": {
        "id": "pDGSttVPyN-G",
        "colab": {
          "base_uri": "https://localhost:8080/",
          "height": 348
        },
        "outputId": "dd5e4879-9d95-4613-fe84-8ed54a0d62db"
      },
      "source": [
        "df_numerical.boxplot(rot=90)"
      ],
      "execution_count": 13,
      "outputs": [
        {
          "output_type": "execute_result",
          "data": {
            "text/plain": [
              "<matplotlib.axes._subplots.AxesSubplot at 0x7ffba647c510>"
            ]
          },
          "metadata": {},
          "execution_count": 13
        },
        {
          "output_type": "display_data",
          "data": {
            "image/png": "[encoded data removed]",
            "text/plain": [
              "<Figure size 432x288 with 1 Axes>"
            ]
          },
          "metadata": {
            "needs_background": "light"
          }
        }
      ]
    },
    {
      "cell_type": "markdown",
      "metadata": {
        "id": "UV25U7ClyzcK"
      },
      "source": [
        "We will normalize the continous variables using Min Max Normalization technique.  \n",
        "Seperate normalizing objects are used for features and target variable(s)."
      ]
    },
    {
      "cell_type": "code",
      "metadata": {
        "id": "ZYEgVyBiuzOS"
      },
      "source": [
        "from sklearn.preprocessing import MinMaxScaler\n",
        "feature_scaler = MinMaxScaler(feature_range=(0, 1))\n",
        "target_scaler = MinMaxScaler(feature_range=(0, 1))"
      ],
      "execution_count": 14,
      "outputs": []
    },
    {
      "cell_type": "code",
      "metadata": {
        "id": "A0NYNfp6uzOM"
      },
      "source": [
        "df_numerical = feature_scaler.fit_transform(df_numerical)"
      ],
      "execution_count": 15,
      "outputs": []
    },
    {
      "cell_type": "code",
      "metadata": {
        "id": "6GkmZW8fuzOD"
      },
      "source": [
        "Y_scaled = target_scaler.fit_transform(Y)"
      ],
      "execution_count": 16,
      "outputs": []
    },
    {
      "cell_type": "markdown",
      "metadata": {
        "id": "kTXsIezoKwGf"
      },
      "source": [
        "## Modeling"
      ]
    },
    {
      "cell_type": "markdown",
      "metadata": {
        "id": "VXa8K6n2av5R"
      },
      "source": [
        "In this workshop, we use Keras API to develop the deep neural network (DNN), on top of Tensorflow framework.  \n",
        "Further details on the Keras API and how to customize models can be learnt from [the official Keras Guide](https://keras.io/getting-started/functional-api-guide/).  \n",
        "  \n",
        "The DNN model we will use is shown below.\n",
        "\n",
        "![alt text](https://i.imgur.com/4cyoPiL.png)"
      ]
    },
    {
      "cell_type": "markdown",
      "metadata": {
        "id": "5_gfW7TNSK48"
      },
      "source": [
        "Import Keras library with Tensorflow and sklearn for model development"
      ]
    },
    {
      "cell_type": "code",
      "metadata": {
        "id": "lwniw_omKfyr"
      },
      "source": [
        "from tensorflow.keras.callbacks import ModelCheckpoint\n",
        "from tensorflow.keras.models import Sequential\n",
        "from tensorflow.keras.layers import Dense, Activation, Flatten\n",
        "from sklearn.model_selection import train_test_split\n",
        "from sklearn.ensemble import RandomForestRegressor\n",
        "from sklearn.metrics import mean_absolute_error "
      ],
      "execution_count": 17,
      "outputs": []
    },
    {
      "cell_type": "markdown",
      "metadata": {
        "id": "gMk7A2GWST1y"
      },
      "source": [
        "Split the dataset (use 70/30 for train/test)"
      ]
    },
    {
      "cell_type": "code",
      "metadata": {
        "id": "QnqmS8VSfLEr"
      },
      "source": [
        "X_train, X_test, y_train, y_test = train_test_split(df_numerical, Y_scaled, test_size=0.3, random_state=2)"
      ],
      "execution_count": 18,
      "outputs": []
    },
    {
      "cell_type": "markdown",
      "metadata": {
        "id": "CWhr4ov0fNg2"
      },
      "source": [
        "First we will define a sequential model, which is the placeholder for our deep learning model."
      ]
    },
    {
      "cell_type": "code",
      "metadata": {
        "id": "97GnODyDasMr"
      },
      "source": [
        "NN_model = Sequential()"
      ],
      "execution_count": 19,
      "outputs": []
    },
    {
      "cell_type": "markdown",
      "metadata": {
        "id": "jMJk9FmkfUKO"
      },
      "source": [
        "Next we will setup the first layer of our deep neural network (DNN). Here we initialize the input dimentions.  \n",
        "Note that we will use 36 hidden nodes for each layer of our DNN. You may vary them in own experimental setup, in order to improve the accuracy."
      ]
    },
    {
      "cell_type": "code",
      "metadata": {
        "id": "dS6cQ1knbHw9"
      },
      "source": [
        "NN_model.add(Dense(36, kernel_initializer='normal', input_dim = X_train.shape[1], activation='relu'))"
      ],
      "execution_count": 20,
      "outputs": []
    },
    {
      "cell_type": "markdown",
      "metadata": {
        "id": "RwGhqZLKftcf"
      },
      "source": [
        "After initiaing the first layer, we will define 2nd, 3rd and 4th layers similarly.  \n",
        "However, we do not need to define the input dimensions in proceeding layers, as it will automatically detected from first layer."
      ]
    },
    {
      "cell_type": "code",
      "metadata": {
        "id": "9-9AI9M9bb0g"
      },
      "source": [
        "NN_model.add(Dense(24, kernel_initializer='normal',activation='relu'))\n",
        "NN_model.add(Dense(12, kernel_initializer='normal',activation='relu'))\n",
        "NN_model.add(Dense(8, kernel_initializer='normal',activation='relu'))"
      ],
      "execution_count": 21,
      "outputs": []
    },
    {
      "cell_type": "markdown",
      "metadata": {
        "id": "1M0LQGsLgCBl"
      },
      "source": [
        "Next we will define the output layer. As our output is a prediction of housing price, we will use a single linear activated output node."
      ]
    },
    {
      "cell_type": "code",
      "metadata": {
        "id": "CLXTxGZMbmZZ"
      },
      "source": [
        "NN_model.add(Dense(1, kernel_initializer='normal',activation='linear'))"
      ],
      "execution_count": 22,
      "outputs": []
    },
    {
      "cell_type": "markdown",
      "metadata": {
        "id": "ST8CM7IfggRd"
      },
      "source": [
        "Now we have completely defined the DNN model.  \n",
        "Next step is to compile the DNN with [loss function](https://towardsdatascience.com/common-loss-functions-in-machine-learning-46af0ffc4d23), [optimization](https://medium.com/datadriveninvestor/overview-of-different-optimizers-for-neural-networks-e0ed119440c3) function and metrics.  \n",
        "In our experiment, we will use Mean Absolute Error loss as the loss function, and ADAM optimizer as the optimization function.\n"
      ]
    },
    {
      "cell_type": "code",
      "metadata": {
        "id": "ruzsrlR4bpWw"
      },
      "source": [
        "# Compile the DNN\n",
        "NN_model.compile(loss='mean_absolute_error', optimizer='adam', metrics=['mse'])"
      ],
      "execution_count": 23,
      "outputs": []
    },
    {
      "cell_type": "code",
      "metadata": {
        "id": "IHR1tj81buy8",
        "colab": {
          "base_uri": "https://localhost:8080/"
        },
        "outputId": "89a8bf60-5dd0-40fa-87aa-db4fb77962d8"
      },
      "source": [
        "# Visualize the model summary\n",
        "NN_model.summary()"
      ],
      "execution_count": 24,
      "outputs": [
        {
          "output_type": "stream",
          "name": "stdout",
          "text": [
            "Model: \"sequential\"\n",
            "_________________________________________________________________\n",
            " Layer (type)                Output Shape              Param #   \n",
            "=================================================================\n",
            " dense (Dense)               (None, 36)                1332      \n",
            "                                                                 \n",
            " dense_1 (Dense)             (None, 24)                888       \n",
            "                                                                 \n",
            " dense_2 (Dense)             (None, 12)                300       \n",
            "                                                                 \n",
            " dense_3 (Dense)             (None, 8)                 104       \n",
            "                                                                 \n",
            " dense_4 (Dense)             (None, 1)                 9         \n",
            "                                                                 \n",
            "=================================================================\n",
            "Total params: 2,633\n",
            "Trainable params: 2,633\n",
            "Non-trainable params: 0\n",
            "_________________________________________________________________\n"
          ]
        }
      ]
    },
    {
      "cell_type": "markdown",
      "metadata": {
        "id": "2a4UzS0whU5H"
      },
      "source": [
        "Now we will plot the model in a diagram."
      ]
    },
    {
      "cell_type": "code",
      "metadata": {
        "id": "LbRA3W2ebxWa",
        "colab": {
          "base_uri": "https://localhost:8080/",
          "height": 644
        },
        "outputId": "4759f353-294b-4ee0-f706-7eba6809ef44"
      },
      "source": [
        "# Plot the model\n",
        "from tensorflow.keras.utils import plot_model\n",
        "plot_model(NN_model, to_file='model.png', show_shapes=True, show_layer_names=True)"
      ],
      "execution_count": 25,
      "outputs": [
        {
          "output_type": "execute_result",
          "data": {
            "image/png": "[encoded data removed]",
            "text/plain": [
              "<IPython.core.display.Image object>"
            ]
          },
          "metadata": {},
          "execution_count": 25
        }
      ]
    },
    {
      "cell_type": "markdown",
      "metadata": {
        "id": "7CK8geh9hYvG"
      },
      "source": [
        "Once the plotting is completed, you can go to Files tab and double click on the model.png file to visualize the model diagram."
      ]
    },
    {
      "cell_type": "markdown",
      "metadata": {
        "id": "2pd9QZ9shMOd"
      },
      "source": [
        "## Model Training"
      ]
    },
    {
      "cell_type": "markdown",
      "metadata": {
        "id": "za6nIeaVh4Hl"
      },
      "source": [
        "Now, we will work on training the model.  \n",
        "First we need to define 3 parameters,  \n",
        "\n",
        "\n",
        "1.   Number of training epochs\n",
        "2.   [The batch size](https://radiopaedia.org/articles/batch-size-machine-learning). i.e., how many training samples are used to iterate over once.\n",
        "3.   Validation split (what percentage of data to keep as validation data)\n",
        "\n"
      ]
    },
    {
      "cell_type": "code",
      "metadata": {
        "id": "QSG5uY4Wb6s1"
      },
      "source": [
        "epochs = 100             # Number of training epochs\n",
        "batch_size = 32          # Number of data points to be used to train as a batch. Use to improve the model training time.\n",
        "validation_split = 0.3   # Validation dataset size (percentage)"
      ],
      "execution_count": 26,
      "outputs": []
    },
    {
      "cell_type": "markdown",
      "metadata": {
        "id": "6Q88GNThi0hp"
      },
      "source": [
        "By calling model.fit(), you can initiate the training of the DNN."
      ]
    },
    {
      "cell_type": "code",
      "metadata": {
        "id": "6o4H-zjycy9m",
        "colab": {
          "base_uri": "https://localhost:8080/"
        },
        "outputId": "9fcfd096-02ea-45c9-eca6-24ea64837f3d"
      },
      "source": [
        "# Train the model\n",
        "history = NN_model.fit(X_train, y_train, epochs=epochs, batch_size=batch_size, validation_split = validation_split)"
      ],
      "execution_count": 27,
      "outputs": [
        {
          "output_type": "stream",
          "name": "stdout",
          "text": [
            "Epoch 1/100\n",
            "23/23 [==============================] - 2s 10ms/step - loss: 0.1868 - mse: 0.0474 - val_loss: 0.1629 - val_mse: 0.0373\n",
            "Epoch 2/100\n",
            "23/23 [==============================] - 0s 4ms/step - loss: 0.1238 - mse: 0.0266 - val_loss: 0.0616 - val_mse: 0.0087\n",
            "Epoch 3/100\n",
            "23/23 [==============================] - 0s 4ms/step - loss: 0.0694 - mse: 0.0100 - val_loss: 0.0613 - val_mse: 0.0093\n",
            "Epoch 4/100\n",
            "23/23 [==============================] - 0s 4ms/step - loss: 0.0622 - mse: 0.0090 - val_loss: 0.0564 - val_mse: 0.0071\n",
            "Epoch 5/100\n",
            "23/23 [==============================] - 0s 4ms/step - loss: 0.0570 - mse: 0.0079 - val_loss: 0.0518 - val_mse: 0.0072\n",
            "Epoch 6/100\n",
            "23/23 [==============================] - 0s 4ms/step - loss: 0.0509 - mse: 0.0067 - val_loss: 0.0451 - val_mse: 0.0058\n",
            "Epoch 7/100\n",
            "23/23 [==============================] - 0s 5ms/step - loss: 0.0423 - mse: 0.0050 - val_loss: 0.0365 - val_mse: 0.0037\n",
            "Epoch 8/100\n",
            "23/23 [==============================] - 0s 5ms/step - loss: 0.0381 - mse: 0.0036 - val_loss: 0.0342 - val_mse: 0.0029\n",
            "Epoch 9/100\n",
            "23/23 [==============================] - 0s 5ms/step - loss: 0.0355 - mse: 0.0032 - val_loss: 0.0329 - val_mse: 0.0027\n",
            "Epoch 10/100\n",
            "23/23 [==============================] - 0s 5ms/step - loss: 0.0329 - mse: 0.0027 - val_loss: 0.0318 - val_mse: 0.0026\n",
            "Epoch 11/100\n",
            "23/23 [==============================] - 0s 5ms/step - loss: 0.0328 - mse: 0.0027 - val_loss: 0.0316 - val_mse: 0.0024\n",
            "Epoch 12/100\n",
            "23/23 [==============================] - 0s 5ms/step - loss: 0.0307 - mse: 0.0023 - val_loss: 0.0306 - val_mse: 0.0023\n",
            "Epoch 13/100\n",
            "23/23 [==============================] - 0s 4ms/step - loss: 0.0292 - mse: 0.0022 - val_loss: 0.0302 - val_mse: 0.0022\n",
            "Epoch 14/100\n",
            "23/23 [==============================] - 0s 4ms/step - loss: 0.0284 - mse: 0.0020 - val_loss: 0.0304 - val_mse: 0.0020\n",
            "Epoch 15/100\n",
            "23/23 [==============================] - 0s 4ms/step - loss: 0.0279 - mse: 0.0019 - val_loss: 0.0294 - val_mse: 0.0019\n",
            "Epoch 16/100\n",
            "23/23 [==============================] - 0s 4ms/step - loss: 0.0285 - mse: 0.0020 - val_loss: 0.0300 - val_mse: 0.0019\n",
            "Epoch 17/100\n",
            "23/23 [==============================] - 0s 4ms/step - loss: 0.0277 - mse: 0.0018 - val_loss: 0.0286 - val_mse: 0.0019\n",
            "Epoch 18/100\n",
            "23/23 [==============================] - 0s 4ms/step - loss: 0.0265 - mse: 0.0017 - val_loss: 0.0284 - val_mse: 0.0019\n",
            "Epoch 19/100\n",
            "23/23 [==============================] - 0s 4ms/step - loss: 0.0260 - mse: 0.0017 - val_loss: 0.0272 - val_mse: 0.0017\n",
            "Epoch 20/100\n",
            "23/23 [==============================] - 0s 4ms/step - loss: 0.0257 - mse: 0.0016 - val_loss: 0.0275 - val_mse: 0.0016\n",
            "Epoch 21/100\n",
            "23/23 [==============================] - 0s 4ms/step - loss: 0.0256 - mse: 0.0015 - val_loss: 0.0275 - val_mse: 0.0017\n",
            "Epoch 22/100\n",
            "23/23 [==============================] - 0s 5ms/step - loss: 0.0249 - mse: 0.0014 - val_loss: 0.0262 - val_mse: 0.0015\n",
            "Epoch 23/100\n",
            "23/23 [==============================] - 0s 4ms/step - loss: 0.0250 - mse: 0.0014 - val_loss: 0.0259 - val_mse: 0.0015\n",
            "Epoch 24/100\n",
            "23/23 [==============================] - 0s 4ms/step - loss: 0.0240 - mse: 0.0013 - val_loss: 0.0252 - val_mse: 0.0014\n",
            "Epoch 25/100\n",
            "23/23 [==============================] - 0s 4ms/step - loss: 0.0235 - mse: 0.0012 - val_loss: 0.0254 - val_mse: 0.0016\n",
            "Epoch 26/100\n",
            "23/23 [==============================] - 0s 4ms/step - loss: 0.0235 - mse: 0.0013 - val_loss: 0.0251 - val_mse: 0.0014\n",
            "Epoch 27/100\n",
            "23/23 [==============================] - 0s 4ms/step - loss: 0.0230 - mse: 0.0012 - val_loss: 0.0275 - val_mse: 0.0015\n",
            "Epoch 28/100\n",
            "23/23 [==============================] - 0s 4ms/step - loss: 0.0240 - mse: 0.0013 - val_loss: 0.0241 - val_mse: 0.0013\n",
            "Epoch 29/100\n",
            "23/23 [==============================] - 0s 5ms/step - loss: 0.0230 - mse: 0.0012 - val_loss: 0.0238 - val_mse: 0.0013\n",
            "Epoch 30/100\n",
            "23/23 [==============================] - 0s 4ms/step - loss: 0.0219 - mse: 0.0011 - val_loss: 0.0250 - val_mse: 0.0015\n",
            "Epoch 31/100\n",
            "23/23 [==============================] - 0s 4ms/step - loss: 0.0241 - mse: 0.0013 - val_loss: 0.0235 - val_mse: 0.0013\n",
            "Epoch 32/100\n",
            "23/23 [==============================] - 0s 6ms/step - loss: 0.0223 - mse: 0.0011 - val_loss: 0.0231 - val_mse: 0.0012\n",
            "Epoch 33/100\n",
            "23/23 [==============================] - 0s 5ms/step - loss: 0.0217 - mse: 0.0010 - val_loss: 0.0231 - val_mse: 0.0012\n",
            "Epoch 34/100\n",
            "23/23 [==============================] - 0s 4ms/step - loss: 0.0217 - mse: 0.0010 - val_loss: 0.0234 - val_mse: 0.0013\n",
            "Epoch 35/100\n",
            "23/23 [==============================] - 0s 4ms/step - loss: 0.0218 - mse: 0.0010 - val_loss: 0.0251 - val_mse: 0.0014\n",
            "Epoch 36/100\n",
            "23/23 [==============================] - 0s 4ms/step - loss: 0.0215 - mse: 0.0010 - val_loss: 0.0240 - val_mse: 0.0012\n",
            "Epoch 37/100\n",
            "23/23 [==============================] - 0s 4ms/step - loss: 0.0216 - mse: 9.9422e-04 - val_loss: 0.0227 - val_mse: 0.0012\n",
            "Epoch 38/100\n",
            "23/23 [==============================] - 0s 4ms/step - loss: 0.0214 - mse: 9.7544e-04 - val_loss: 0.0226 - val_mse: 0.0012\n",
            "Epoch 39/100\n",
            "23/23 [==============================] - 0s 4ms/step - loss: 0.0205 - mse: 9.3650e-04 - val_loss: 0.0225 - val_mse: 0.0012\n",
            "Epoch 40/100\n",
            "23/23 [==============================] - 0s 4ms/step - loss: 0.0207 - mse: 9.3647e-04 - val_loss: 0.0222 - val_mse: 0.0012\n",
            "Epoch 41/100\n",
            "23/23 [==============================] - 0s 4ms/step - loss: 0.0208 - mse: 9.4487e-04 - val_loss: 0.0225 - val_mse: 0.0012\n",
            "Epoch 42/100\n",
            "23/23 [==============================] - 0s 4ms/step - loss: 0.0205 - mse: 9.4737e-04 - val_loss: 0.0219 - val_mse: 0.0012\n",
            "Epoch 43/100\n",
            "23/23 [==============================] - 0s 4ms/step - loss: 0.0206 - mse: 9.0059e-04 - val_loss: 0.0242 - val_mse: 0.0014\n",
            "Epoch 44/100\n",
            "23/23 [==============================] - 0s 4ms/step - loss: 0.0213 - mse: 9.8264e-04 - val_loss: 0.0227 - val_mse: 0.0011\n",
            "Epoch 45/100\n",
            "23/23 [==============================] - 0s 4ms/step - loss: 0.0208 - mse: 9.5180e-04 - val_loss: 0.0231 - val_mse: 0.0012\n",
            "Epoch 46/100\n",
            "23/23 [==============================] - 0s 4ms/step - loss: 0.0201 - mse: 9.3561e-04 - val_loss: 0.0220 - val_mse: 0.0011\n",
            "Epoch 47/100\n",
            "23/23 [==============================] - 0s 5ms/step - loss: 0.0200 - mse: 8.8541e-04 - val_loss: 0.0215 - val_mse: 0.0011\n",
            "Epoch 48/100\n",
            "23/23 [==============================] - 0s 4ms/step - loss: 0.0205 - mse: 8.8691e-04 - val_loss: 0.0221 - val_mse: 0.0011\n",
            "Epoch 49/100\n",
            "23/23 [==============================] - 0s 4ms/step - loss: 0.0204 - mse: 9.2331e-04 - val_loss: 0.0216 - val_mse: 0.0011\n",
            "Epoch 50/100\n",
            "23/23 [==============================] - 0s 5ms/step - loss: 0.0212 - mse: 9.5570e-04 - val_loss: 0.0215 - val_mse: 0.0011\n",
            "Epoch 51/100\n",
            "23/23 [==============================] - 0s 5ms/step - loss: 0.0206 - mse: 8.9582e-04 - val_loss: 0.0230 - val_mse: 0.0012\n",
            "Epoch 52/100\n",
            "23/23 [==============================] - 0s 4ms/step - loss: 0.0202 - mse: 9.0698e-04 - val_loss: 0.0214 - val_mse: 0.0011\n",
            "Epoch 53/100\n",
            "23/23 [==============================] - 0s 4ms/step - loss: 0.0198 - mse: 8.6577e-04 - val_loss: 0.0221 - val_mse: 0.0011\n",
            "Epoch 54/100\n",
            "23/23 [==============================] - 0s 4ms/step - loss: 0.0204 - mse: 9.0721e-04 - val_loss: 0.0214 - val_mse: 0.0011\n",
            "Epoch 55/100\n",
            "23/23 [==============================] - 0s 4ms/step - loss: 0.0199 - mse: 8.8399e-04 - val_loss: 0.0213 - val_mse: 0.0011\n",
            "Epoch 56/100\n",
            "23/23 [==============================] - 0s 4ms/step - loss: 0.0195 - mse: 8.6057e-04 - val_loss: 0.0213 - val_mse: 0.0011\n",
            "Epoch 57/100\n",
            "23/23 [==============================] - 0s 5ms/step - loss: 0.0199 - mse: 8.7325e-04 - val_loss: 0.0218 - val_mse: 0.0011\n",
            "Epoch 58/100\n",
            "23/23 [==============================] - 0s 5ms/step - loss: 0.0200 - mse: 9.0358e-04 - val_loss: 0.0224 - val_mse: 0.0011\n",
            "Epoch 59/100\n",
            "23/23 [==============================] - 0s 4ms/step - loss: 0.0213 - mse: 9.6441e-04 - val_loss: 0.0271 - val_mse: 0.0014\n",
            "Epoch 60/100\n",
            "23/23 [==============================] - 0s 4ms/step - loss: 0.0205 - mse: 8.8813e-04 - val_loss: 0.0229 - val_mse: 0.0012\n",
            "Epoch 61/100\n",
            "23/23 [==============================] - 0s 4ms/step - loss: 0.0201 - mse: 8.5527e-04 - val_loss: 0.0223 - val_mse: 0.0011\n",
            "Epoch 62/100\n",
            "23/23 [==============================] - 0s 4ms/step - loss: 0.0191 - mse: 8.1746e-04 - val_loss: 0.0212 - val_mse: 0.0011\n",
            "Epoch 63/100\n",
            "23/23 [==============================] - 0s 4ms/step - loss: 0.0191 - mse: 8.3284e-04 - val_loss: 0.0212 - val_mse: 0.0011\n",
            "Epoch 64/100\n",
            "23/23 [==============================] - 0s 5ms/step - loss: 0.0195 - mse: 8.6949e-04 - val_loss: 0.0212 - val_mse: 0.0011\n",
            "Epoch 65/100\n",
            "23/23 [==============================] - 0s 4ms/step - loss: 0.0194 - mse: 8.4173e-04 - val_loss: 0.0221 - val_mse: 0.0011\n",
            "Epoch 66/100\n",
            "23/23 [==============================] - 0s 4ms/step - loss: 0.0194 - mse: 8.6690e-04 - val_loss: 0.0244 - val_mse: 0.0013\n",
            "Epoch 67/100\n",
            "23/23 [==============================] - 0s 4ms/step - loss: 0.0192 - mse: 8.4742e-04 - val_loss: 0.0220 - val_mse: 0.0011\n",
            "Epoch 68/100\n",
            "23/23 [==============================] - 0s 4ms/step - loss: 0.0215 - mse: 9.2542e-04 - val_loss: 0.0234 - val_mse: 0.0013\n",
            "Epoch 69/100\n",
            "23/23 [==============================] - 0s 4ms/step - loss: 0.0199 - mse: 8.7240e-04 - val_loss: 0.0216 - val_mse: 0.0011\n",
            "Epoch 70/100\n",
            "23/23 [==============================] - 0s 4ms/step - loss: 0.0187 - mse: 8.0150e-04 - val_loss: 0.0221 - val_mse: 0.0011\n",
            "Epoch 71/100\n",
            "23/23 [==============================] - 0s 4ms/step - loss: 0.0198 - mse: 8.4979e-04 - val_loss: 0.0217 - val_mse: 0.0011\n",
            "Epoch 72/100\n",
            "23/23 [==============================] - 0s 4ms/step - loss: 0.0200 - mse: 8.9321e-04 - val_loss: 0.0243 - val_mse: 0.0012\n",
            "Epoch 73/100\n",
            "23/23 [==============================] - 0s 4ms/step - loss: 0.0192 - mse: 8.4287e-04 - val_loss: 0.0214 - val_mse: 0.0011\n",
            "Epoch 74/100\n",
            "23/23 [==============================] - 0s 4ms/step - loss: 0.0188 - mse: 7.7755e-04 - val_loss: 0.0209 - val_mse: 0.0010\n",
            "Epoch 75/100\n",
            "23/23 [==============================] - 0s 4ms/step - loss: 0.0184 - mse: 7.6621e-04 - val_loss: 0.0216 - val_mse: 0.0011\n",
            "Epoch 76/100\n",
            "23/23 [==============================] - 0s 4ms/step - loss: 0.0187 - mse: 7.8714e-04 - val_loss: 0.0221 - val_mse: 0.0011\n",
            "Epoch 77/100\n",
            "23/23 [==============================] - 0s 5ms/step - loss: 0.0186 - mse: 7.8160e-04 - val_loss: 0.0210 - val_mse: 0.0010\n",
            "Epoch 78/100\n",
            "23/23 [==============================] - 0s 4ms/step - loss: 0.0188 - mse: 7.8808e-04 - val_loss: 0.0217 - val_mse: 0.0011\n",
            "Epoch 79/100\n",
            "23/23 [==============================] - 0s 4ms/step - loss: 0.0192 - mse: 8.0078e-04 - val_loss: 0.0212 - val_mse: 0.0011\n",
            "Epoch 80/100\n",
            "23/23 [==============================] - 0s 4ms/step - loss: 0.0187 - mse: 7.9928e-04 - val_loss: 0.0208 - val_mse: 0.0010\n",
            "Epoch 81/100\n",
            "23/23 [==============================] - 0s 4ms/step - loss: 0.0189 - mse: 7.9757e-04 - val_loss: 0.0209 - val_mse: 0.0010\n",
            "Epoch 82/100\n",
            "23/23 [==============================] - 0s 4ms/step - loss: 0.0181 - mse: 7.6319e-04 - val_loss: 0.0211 - val_mse: 0.0011\n",
            "Epoch 83/100\n",
            "23/23 [==============================] - 0s 4ms/step - loss: 0.0187 - mse: 8.0381e-04 - val_loss: 0.0216 - val_mse: 0.0011\n",
            "Epoch 84/100\n",
            "23/23 [==============================] - 0s 4ms/step - loss: 0.0185 - mse: 7.9240e-04 - val_loss: 0.0224 - val_mse: 0.0011\n",
            "Epoch 85/100\n",
            "23/23 [==============================] - 0s 4ms/step - loss: 0.0189 - mse: 8.2191e-04 - val_loss: 0.0207 - val_mse: 0.0010\n",
            "Epoch 86/100\n",
            "23/23 [==============================] - 0s 5ms/step - loss: 0.0181 - mse: 7.6624e-04 - val_loss: 0.0207 - val_mse: 0.0010\n",
            "Epoch 87/100\n",
            "23/23 [==============================] - 0s 5ms/step - loss: 0.0186 - mse: 7.6202e-04 - val_loss: 0.0206 - val_mse: 0.0010\n",
            "Epoch 88/100\n",
            "23/23 [==============================] - 0s 5ms/step - loss: 0.0180 - mse: 7.5802e-04 - val_loss: 0.0207 - val_mse: 0.0010\n",
            "Epoch 89/100\n",
            "23/23 [==============================] - 0s 4ms/step - loss: 0.0205 - mse: 9.0827e-04 - val_loss: 0.0236 - val_mse: 0.0013\n",
            "Epoch 90/100\n",
            "23/23 [==============================] - 0s 4ms/step - loss: 0.0192 - mse: 8.2025e-04 - val_loss: 0.0211 - val_mse: 0.0011\n",
            "Epoch 91/100\n",
            "23/23 [==============================] - 0s 4ms/step - loss: 0.0182 - mse: 7.6920e-04 - val_loss: 0.0215 - val_mse: 0.0011\n",
            "Epoch 92/100\n",
            "23/23 [==============================] - 0s 4ms/step - loss: 0.0183 - mse: 7.7650e-04 - val_loss: 0.0207 - val_mse: 0.0010\n",
            "Epoch 93/100\n",
            "23/23 [==============================] - 0s 4ms/step - loss: 0.0181 - mse: 7.7458e-04 - val_loss: 0.0207 - val_mse: 0.0010\n",
            "Epoch 94/100\n",
            "23/23 [==============================] - 0s 4ms/step - loss: 0.0183 - mse: 7.7959e-04 - val_loss: 0.0206 - val_mse: 0.0010\n",
            "Epoch 95/100\n",
            "23/23 [==============================] - 0s 5ms/step - loss: 0.0179 - mse: 7.3872e-04 - val_loss: 0.0206 - val_mse: 0.0010\n",
            "Epoch 96/100\n",
            "23/23 [==============================] - 0s 5ms/step - loss: 0.0182 - mse: 7.5495e-04 - val_loss: 0.0220 - val_mse: 0.0011\n",
            "Epoch 97/100\n",
            "23/23 [==============================] - 0s 4ms/step - loss: 0.0181 - mse: 7.7780e-04 - val_loss: 0.0221 - val_mse: 0.0011\n",
            "Epoch 98/100\n",
            "23/23 [==============================] - 0s 4ms/step - loss: 0.0188 - mse: 8.1155e-04 - val_loss: 0.0208 - val_mse: 0.0010\n",
            "Epoch 99/100\n",
            "23/23 [==============================] - 0s 5ms/step - loss: 0.0180 - mse: 7.4506e-04 - val_loss: 0.0205 - val_mse: 0.0010\n",
            "Epoch 100/100\n",
            "23/23 [==============================] - 0s 4ms/step - loss: 0.0180 - mse: 7.5922e-04 - val_loss: 0.0222 - val_mse: 0.0011\n"
          ]
        }
      ]
    },
    {
      "cell_type": "markdown",
      "metadata": {
        "id": "Wh6BeDbti7dm"
      },
      "source": [
        "Plot the learning curve, oppose to traning and validation errors."
      ]
    },
    {
      "cell_type": "code",
      "metadata": {
        "id": "Y9BocNJddB5L",
        "colab": {
          "base_uri": "https://localhost:8080/",
          "height": 312
        },
        "outputId": "874fea03-6f38-4377-b5aa-0ea0c44914ab"
      },
      "source": [
        "plt.plot(history.history['loss'])\n",
        "plt.plot(history.history['val_loss'])\n",
        "plt.title('model loss')\n",
        "plt.ylabel('loss')\n",
        "plt.xlabel('epoch')\n",
        "plt.legend(['train', 'validation'], loc='upper right')"
      ],
      "execution_count": 28,
      "outputs": [
        {
          "output_type": "execute_result",
          "data": {
            "text/plain": [
              "<matplotlib.legend.Legend at 0x7ffac00ca050>"
            ]
          },
          "metadata": {},
          "execution_count": 28
        },
        {
          "output_type": "display_data",
          "data": {
            "image/png": "[encoded data removed]",
            "text/plain": [
              "<Figure size 432x288 with 1 Axes>"
            ]
          },
          "metadata": {
            "needs_background": "light"
          }
        }
      ]
    },
    {
      "cell_type": "markdown",
      "metadata": {
        "id": "sVvwREyHhSaU"
      },
      "source": [
        "## Model Evaluation"
      ]
    },
    {
      "cell_type": "markdown",
      "metadata": {
        "id": "jCxSVIB_jjaQ"
      },
      "source": [
        "Now we will test the trained DNN model with respect to the test dataset."
      ]
    },
    {
      "cell_type": "code",
      "metadata": {
        "id": "FYkasY3Vg8eg"
      },
      "source": [
        "# Predicted output for test dataset\n",
        "yhat_test = NN_model.predict(X_test)\n",
        "yhat_train = NN_model.predict(X_train)"
      ],
      "execution_count": 29,
      "outputs": []
    },
    {
      "cell_type": "markdown",
      "metadata": {
        "id": "ir21wRLLCZXF"
      },
      "source": [
        "Recall how we standardized the data using scaler transform library in scikit-learn. Now, we will inverse transform the predictions back to its original range."
      ]
    },
    {
      "cell_type": "code",
      "metadata": {
        "id": "W6UOHEgOuKF1"
      },
      "source": [
        "# inverse transform test dataset\n",
        "inv_yhat = target_scaler.inverse_transform(yhat_test)\n",
        "inv_y_test = target_scaler.inverse_transform(y_test)"
      ],
      "execution_count": 30,
      "outputs": []
    },
    {
      "cell_type": "code",
      "metadata": {
        "id": "XD3LxVmouKIx"
      },
      "source": [
        "# inverse transform train dataset\n",
        "yhat_train = target_scaler.inverse_transform(yhat_train)\n",
        "inv_y_train = target_scaler.inverse_transform(y_train)"
      ],
      "execution_count": 31,
      "outputs": []
    },
    {
      "cell_type": "markdown",
      "metadata": {
        "id": "EARJip0EjzA6"
      },
      "source": [
        "Evaluate the root means squared error (RMSE)"
      ]
    },
    {
      "cell_type": "code",
      "metadata": {
        "id": "D2WQWg7_q__4"
      },
      "source": [
        "from sklearn.metrics import mean_squared_error"
      ],
      "execution_count": 32,
      "outputs": []
    },
    {
      "cell_type": "code",
      "metadata": {
        "id": "KO-Q3LwBuKN6",
        "colab": {
          "base_uri": "https://localhost:8080/"
        },
        "outputId": "9e742009-79b9-49de-ff27-f35af833f5c2"
      },
      "source": [
        "error_train = np.sqrt(mean_squared_error(inv_y_train, yhat_train))\n",
        "error_test = np.sqrt(mean_squared_error(inv_y_test, inv_yhat))\n",
        "print('Train RMSE: ', error_train)\n",
        "print('Test RMSE: ', error_test)"
      ],
      "execution_count": 33,
      "outputs": [
        {
          "output_type": "stream",
          "name": "stdout",
          "text": [
            "Train RMSE:  21959.330072429217\n",
            "Test RMSE:  62385.295818139326\n"
          ]
        }
      ]
    },
    {
      "cell_type": "markdown",
      "metadata": {
        "id": "FQyMAQI4C4Qv"
      },
      "source": [
        "Relate the train and test error with bias/variance.  \n",
        "*  What is the problem we have here?\n",
        "*  What options we can take to improve the accuracy?"
      ]
    },
    {
      "cell_type": "code",
      "metadata": {
        "id": "wBGIMHyyuKLz",
        "colab": {
          "base_uri": "https://localhost:8080/",
          "height": 364
        },
        "outputId": "81a2e083-a167-45cc-a901-a9e09c36140f"
      },
      "source": [
        "plt.figure(figsize=(5, 10))\n",
        "fig, ax = plt.subplots(nrows=1, ncols=2)\n",
        "plt.subplots_adjust(hspace=3, wspace=1)\n",
        "ax[0].scatter(inv_y_test, inv_yhat, c='g')\n",
        "ax[0].set(title='Test data', xlabel='Actual Sale Price', ylabel='Predicted Sale Price')\n",
        "ax[1].scatter(inv_y_train, yhat_train, c='b')\n",
        "ax[1].set(title='Train data', xlabel='Actual Sale Price', ylabel='Predicted Sale Price')"
      ],
      "execution_count": 34,
      "outputs": [
        {
          "output_type": "execute_result",
          "data": {
            "text/plain": [
              "[Text(0, 0.5, 'Predicted Sale Price'),\n",
              " Text(0.5, 0, 'Actual Sale Price'),\n",
              " Text(0.5, 1.0, 'Train data')]"
            ]
          },
          "metadata": {},
          "execution_count": 34
        },
        {
          "output_type": "display_data",
          "data": {
            "text/plain": [
              "<Figure size 360x720 with 0 Axes>"
            ]
          },
          "metadata": {}
        },
        {
          "output_type": "display_data",
          "data": {
            "image/png": "[encoded data removed]",
            "text/plain": [
              "<Figure size 432x288 with 2 Axes>"
            ]
          },
          "metadata": {
            "needs_background": "light"
          }
        }
      ]
    },
    {
      "cell_type": "markdown",
      "metadata": {
        "id": "ZfgvSKt2DLfK"
      },
      "source": [
        "## Hyperparameter Tuning"
      ]
    },
    {
      "cell_type": "markdown",
      "metadata": {
        "id": "lqeHU4r2D501"
      },
      "source": [
        "Adjusting/finding good values for hyperparameters is a slow process. You have to wait for the whole training process to complete, evaluate the results and adjust the value(s).  \n",
        "\n",
        "In general, hyperparameter tuning can give you 5-15% accuracy boost on the test data.  \n",
        "\n",
        "There are number of libraries to ease the process of hyperparameter tuning. Hyperas library [Link to library](https://github.com/maxpumperla/hyperas).  \n",
        "\n",
        "Credits to Nils Schlüter for the guide on [running hyperas with Google Colab](https://towardsdatascience.com/keras-hyperparameter-tuning-in-google-colab-using-hyperas-624fa4bbf673)."
      ]
    }
  ]
}